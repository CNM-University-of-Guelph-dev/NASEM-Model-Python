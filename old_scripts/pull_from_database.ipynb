{
 "cells": [
  {
   "cell_type": "code",
   "execution_count": 1,
   "metadata": {},
   "outputs": [],
   "source": [
    "import pandas as pd\n",
    "import fastparquet\n",
    "import sqlite3\n",
    "\n",
    "# This notebook has more tests of the database interaction. This was developed into database_interaction.py"
   ]
  },
  {
   "cell_type": "code",
   "execution_count": 7,
   "metadata": {},
   "outputs": [],
   "source": [
    "# Setup a test file with animal information and a diet ID\n",
    "def assign_diet_id(row):\n",
    "    return f\"{row['sampleId']}_{row['reportDate']}\"\n",
    "\n",
    "input_data = pd.read_parquet('../test_files/merged_cow_with_feed_daily_20230530_1557.parquet')\n",
    "animal_data = input_data.dropna(subset=['sampleId'])\n",
    "\n",
    "# Assign Diet_ID\n",
    "animal_data = animal_data.assign(\n",
    "        Diet_ID = lambda df: df['sampleId'] + '_' + df['reportDate'].dt.strftime('%Y-%m-%d')\n",
    "        )\n",
    "\n",
    "animal_data = animal_data.drop(columns=animal_data.columns[22:49], axis=1)\n"
   ]
  },
  {
   "cell_type": "code",
   "execution_count": 6,
   "metadata": {},
   "outputs": [
    {
     "name": "stdout",
     "output_type": "stream",
     "text": [
      "30.28\n"
     ]
    }
   ],
   "source": [
    "# Use Diet_ID to get the corresponding NDF value\n",
    "\n",
    "\n",
    "conn = sqlite3.connect('../diet_database.db')\n",
    "cursor = conn.cursor()\n",
    "\n",
    "diet_id = 'DAIRY - LACTATING TMR_2021-01-25 00:00:00'  # Replace 'your_diet_id' with the actual Diet_ID value you want to retrieve\n",
    "\n",
    "query = f\"SELECT `Neutral Detergent Fibre (%)` FROM current_diets WHERE Diet_ID = '{diet_id}'\"\n",
    "cursor.execute(query)\n",
    "\n",
    "column_data = cursor.fetchone()\n",
    "column_data = float(column_data[0])\n",
    "print(column_data)  # Display the retrieved column data\n",
    "\n",
    "conn.close()"
   ]
  },
  {
   "cell_type": "code",
   "execution_count": 9,
   "metadata": {},
   "outputs": [],
   "source": [
    "# Excecute the above code using a function that can be applied to each row of a dataframe\n",
    "# This is a good example of how to pull individual values from the database using the Diet_ID to call the\n",
    "# appropriate diet\n",
    "\n",
    "def retrieve_ndf_value(row, conn):\n",
    "    cursor = conn.cursor()\n",
    "\n",
    "    diet_id = row['Diet_ID'] \n",
    "\n",
    "    query = f\"SELECT `Neutral Detergent Fibre (%)` FROM current_diets WHERE Diet_ID = '{diet_id}'\"\n",
    "    cursor.execute(query)\n",
    "\n",
    "    column_data = cursor.fetchone()\n",
    "    ndf_value = float(column_data[0])  \n",
    "\n",
    "    return ndf_value\n",
    "\n",
    "conn = sqlite3.connect('../diet_database.db')\n",
    "\n",
    "# Apply the function to each row of the dataframe and assign the result to a new column\n",
    "animal_data['NDF_%_DM'] = animal_data.apply(retrieve_ndf_value, args=(conn,), axis=1)\n",
    "\n",
    "conn.close()"
   ]
  },
  {
   "cell_type": "code",
   "execution_count": 12,
   "metadata": {},
   "outputs": [],
   "source": [
    "# This function will retrieve the NDF (% DM) for the diet being fed and then multiply it by the \n",
    "# cow's DMI to give the NDF intake in kg (DM), which is needed for the model\n",
    "\n",
    "def retrieve_ndf_value(row, conn):\n",
    "    cursor = conn.cursor()\n",
    "\n",
    "    diet_id = row['Diet_ID'] \n",
    "\n",
    "    query = f\"SELECT `Neutral Detergent Fibre (%)` FROM current_diets WHERE Diet_ID = '{diet_id}'\"\n",
    "    cursor.execute(query)\n",
    "\n",
    "    column_data = cursor.fetchone()\n",
    "    # Divide by 100 to convert to a percentage\n",
    "    ndf_DM = float(column_data[0])/100\n",
    "\n",
    "    # Multiply by DMI to get the kg NDF consumed\n",
    "    ndf_value = ndf_DM * row['DMI']\n",
    "    return ndf_value\n",
    "\n",
    "conn = sqlite3.connect('../diet_database.db')\n",
    "\n",
    "# Apply the function to each row of the dataframe and assign the result to a new column\n",
    "animal_data['NDF_kg_DM'] = animal_data.apply(retrieve_ndf_value, args=(conn,), axis=1)\n",
    "\n",
    "conn.close()\n"
   ]
  },
  {
   "cell_type": "code",
   "execution_count": 9,
   "metadata": {},
   "outputs": [],
   "source": [
    "conn = sqlite3.connect('../diet_database.db')\n",
    "query = \"SELECT Diet_ID, `Neutral Detergent Fibre (%)` FROM current_diets\"\n",
    "# create data frame from query:\n",
    "df_NDF = pd.read_sql_query(query, conn)\n",
    "conn.close()\n",
    "\n",
    "# merge data:\n",
    "animal_data_2 = pd.merge(\n",
    "    animal_data,\n",
    "    df_NDF,\n",
    "    on = 'Diet_ID'\n",
    ")\n",
    "\n",
    "animal_data_2 = animal_data_2.assign(\n",
    "    Dt_NDFIn = lambda df: df['Neutral Detergent Fibre (%)']/100 * df['DMI']\n",
    ")"
   ]
  }
 ],
 "metadata": {
  "kernelspec": {
   "display_name": "NASEM_py_env",
   "language": "python",
   "name": "python3"
  },
  "language_info": {
   "codemirror_mode": {
    "name": "ipython",
    "version": 3
   },
   "file_extension": ".py",
   "mimetype": "text/x-python",
   "name": "python",
   "nbconvert_exporter": "python",
   "pygments_lexer": "ipython3",
   "version": "3.11.3"
  },
  "orig_nbformat": 4
 },
 "nbformat": 4,
 "nbformat_minor": 2
}
