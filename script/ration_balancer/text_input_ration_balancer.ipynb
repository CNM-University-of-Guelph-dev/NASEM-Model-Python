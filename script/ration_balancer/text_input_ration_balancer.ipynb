{
 "cells": [
  {
   "cell_type": "code",
   "execution_count": null,
   "metadata": {},
   "outputs": [],
   "source": [
    "import pandas as pd\n"
   ]
  },
  {
   "cell_type": "code",
   "execution_count": null,
   "metadata": {},
   "outputs": [],
   "source": [
    "def read_input(input):\n",
    "    data = []\n",
    "\n",
    "    with open(input, 'r') as file:\n",
    "        for line in file:\n",
    "            line = line.strip()\n",
    "\n",
    "            if line.startswith('#') or ':' not in line:\n",
    "                continue\n",
    "\n",
    "            feedstuff, per_DM = line.split(\":\")\n",
    "\n",
    "            data.append([feedstuff.strip(), per_DM.strip()])\n",
    "\n",
    "    feeds = pd.DataFrame(data, columns=[\"Feedstuff\", \"% DM Basis\"])\n",
    "    return(feeds)\n",
    "\n",
    "filepath = \"input.txt\"\n",
    "feeds = read_input(filepath)"
   ]
  }
 ],
 "metadata": {
  "language_info": {
   "name": "python"
  },
  "orig_nbformat": 4
 },
 "nbformat": 4,
 "nbformat_minor": 2
}
