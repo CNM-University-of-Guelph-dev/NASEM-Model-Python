{
 "cells": [
  {
   "cell_type": "code",
   "execution_count": 4,
   "metadata": {},
   "outputs": [],
   "source": [
    "import pandas as pd\n",
    "import sqlite3\n",
    "\n",
    "import sys\n",
    "import os\n",
    "# Modify path temporarily to import functions from NASEM_functions directory\n",
    "current_dir = os.getcwd()\n",
    "parent_dir = os.path.dirname(current_dir)\n",
    "sys.path.append(parent_dir)\n",
    "\n",
    "from NASEM_functions.ration_balancing_equations import *"
   ]
  },
  {
   "cell_type": "code",
   "execution_count": 59,
   "metadata": {},
   "outputs": [],
   "source": [
    "# User will type the ration into input.txt\n",
    "# This function reads that file and creates a dataframe with all of the feeds and % DM \n",
    "\n",
    "def read_input(input):\n",
    "    data = []\n",
    "    animal_input = {}\n",
    "\n",
    "    with open(input, 'r') as file:\n",
    "        for line in file:\n",
    "            line = line.strip()\n",
    "\n",
    "            if line.startswith('#') or ':' not in line:\n",
    "                continue\n",
    "\n",
    "            if line.startswith('*'):\n",
    "                key, value = line[1:].split(\":\")\n",
    "                animal_input[key.strip()] = float(value.strip())\n",
    "                continue\n",
    "\n",
    "            feedstuff, per_DM = line.split(\":\")\n",
    "            data.append([feedstuff.strip(), per_DM.strip()])\n",
    "\n",
    "    user_input = pd.DataFrame(data, columns=[\"Feedstuff\", \"%_DM_user\"])\n",
    "    user_input['%_DM_user'] = user_input['%_DM_user'].astype(float)\n",
    "    \n",
    "    user_input['Feedstuff'] = user_input['Feedstuff'].str.strip()\n",
    "    # user_input.set_index('Feedstuff', inplace=True)  # Set 'Feedstuff' as the index\n",
    "\n",
    "\n",
    "    user_input['Index'] = user_input['Feedstuff']\n",
    "    user_input = user_input.set_index('Index') \n",
    "    # user_input.index = user_input.index.str.strip()\n",
    "\n",
    "    # user_input = user_input.set_index('Feedstuff')\n",
    "    # user_input.set_index('Feedstuff', inplace=True)\n",
    "    # user_input.index = user_input.index.str.strip()\n",
    "    \n",
    "    return user_input, animal_input\n",
    "\n",
    "user_input, animal_input = read_input('input.txt')\n",
    "list_of_feeds = user_input['Feedstuff'].tolist()\n",
    "# list_of_feeds = user_input.index.tolist()"
   ]
  },
  {
   "cell_type": "code",
   "execution_count": 19,
   "metadata": {},
   "outputs": [],
   "source": [
    "# Takes a list of the feed names and gets all their info from the feed library\n",
    "\n",
    "def fl_get_rows(feeds_to_get):\n",
    "    conn = sqlite3.connect('../../diet_database.db')\n",
    "    cursor = conn.cursor()\n",
    "\n",
    "    index_str = ', '.join([f\"'{idx}'\" for idx in feeds_to_get])\n",
    "\n",
    "    query = f\"SELECT * FROM feed_library WHERE Name IN ({index_str})\"\n",
    "\n",
    "    cursor.execute(query)\n",
    "    rows = cursor.fetchall()\n",
    "\n",
    "    cursor.execute(f\"PRAGMA table_info(feed_library)\")\n",
    "    column_names = [column[1] for column in cursor.fetchall()]\n",
    "\n",
    "    # Create a DataFrame from the retrieved rows with column names\n",
    "    feed_data = pd.DataFrame(rows, columns=column_names)\n",
    "    feed_data = feed_data.set_index('Name')\n",
    "    feed_data.index = feed_data.index.str.strip()\n",
    "\n",
    "    conn.close()\n",
    "\n",
    "    return feed_data\n",
    "\n",
    "feed_data = fl_get_rows(list_of_feeds)"
   ]
  },
  {
   "cell_type": "code",
   "execution_count": 61,
   "metadata": {},
   "outputs": [],
   "source": [
    "# Get %DM to add to 100%\n",
    "def set_perc_100():\n",
    "    user_perc = user_input['%_DM_user'].sum()\n",
    "    scaling_factor = 100 / user_perc\n",
    "\n",
    "    user_input['%_DM_intake'] = user_input['%_DM_user'] * scaling_factor\n",
    "\n",
    "    # Adjust so sum is exactly 100\n",
    "    adjustment = 100 - user_input['%_DM_intake'].sum()\n",
    "    user_input['%_DM_intake'] += adjustment / len(user_input)\n",
    "\n",
    "    return user_input\n",
    "\n",
    "user_input = set_perc_100()"
   ]
  },
  {
   "cell_type": "code",
   "execution_count": 62,
   "metadata": {},
   "outputs": [],
   "source": [
    "# Predict DMI\n",
    "\n",
    "def dmi_predicted(An_Parity_rl, Trg_MilkProd, An_BW, An_BCS, An_LactDay, Trg_MilkFatp, Trg_MilkTPp, Trg_MilkLacp):\n",
    "    DMI = calculate_Dt_DMIn_Lact1(An_Parity_rl, Trg_MilkProd, An_BW, An_BCS, An_LactDay, Trg_MilkFatp, Trg_MilkTPp, Trg_MilkLacp)\n",
    "    return DMI\n",
    "\n",
    "animal_input['DMI'] = dmi_predicted(**animal_input)\n"
   ]
  },
  {
   "cell_type": "code",
   "execution_count": 63,
   "metadata": {},
   "outputs": [],
   "source": [
    "# Get kg intake of each feed\n",
    "\n",
    "def get_kg_intake(df, dict):\n",
    "    DMI = dict['DMI']\n",
    "    df['kg_intake'] = df['%_DM_intake']/100 * DMI\n",
    "\n",
    "get_kg_intake(user_input, animal_input)"
   ]
  },
  {
   "cell_type": "code",
   "execution_count": 73,
   "metadata": {},
   "outputs": [],
   "source": [
    "# Calculate Nutrient Intakes\n",
    "def get_nutrient_intakes(df):\n",
    "    for feed in df['Feedstuff']:\n",
    "        \n",
    "        # CP Intake\n",
    "        df.loc[df['Feedstuff'] == feed, 'CP_%_diet'] = feed_data.loc[feed, 'CP (%DM)'] * df.loc[df['Feedstuff'] == feed, '%_DM_intake'] / 100\n",
    "        df.loc[df['Feedstuff'] == feed, 'CP_kg/d_diet'] = feed_data.loc[feed, 'CP (%DM)'] * df.loc[df['Feedstuff'] == feed, 'kg_intake'] / animal_input['DMI']\n",
    "\n",
    "        # print(feed_data.loc[feed, 'CP (%DM)'] * 2)\n",
    "\n",
    "get_nutrient_intakes(user_input)"
   ]
  },
  {
   "cell_type": "code",
   "execution_count": 68,
   "metadata": {},
   "outputs": [
    {
     "name": "stdout",
     "output_type": "stream",
     "text": [
      "19.2\n",
      "33.48214285714286\n",
      "Index(['alfalfa meal', 'canola meal', 'corn grain high moisture',\n",
      "       'corn silage 30% grain'],\n",
      "      dtype='object', name='Name')\n"
     ]
    }
   ],
   "source": [
    "feed = 'alfalfa meal'\n",
    "\n",
    "print(feed_data.loc[feed, 'CP (%DM)'])\n",
    "\n",
    "print(user_input.loc[feed, '%_DM_intake'])\n",
    "\n",
    "print(feed_data.index)"
   ]
  }
 ],
 "metadata": {
  "kernelspec": {
   "display_name": "NASEM_py_env",
   "language": "python",
   "name": "python3"
  },
  "language_info": {
   "codemirror_mode": {
    "name": "ipython",
    "version": 3
   },
   "file_extension": ".py",
   "mimetype": "text/x-python",
   "name": "python",
   "nbconvert_exporter": "python",
   "pygments_lexer": "ipython3",
   "version": "3.11.3"
  },
  "orig_nbformat": 4
 },
 "nbformat": 4,
 "nbformat_minor": 2
}
