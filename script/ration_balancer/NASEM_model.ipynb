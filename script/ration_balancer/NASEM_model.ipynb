{
 "cells": [
  {
   "cell_type": "code",
   "execution_count": 1,
   "metadata": {},
   "outputs": [],
   "source": [
    "# Setup all functions to run at once and return all the results to user\n",
    "\n",
    "####################\n",
    "# Import Packages\n",
    "####################\n",
    "import pandas as pd\n",
    "import sqlite3\n",
    "import math\n",
    "import numpy as np\n",
    "\n",
    "import sys\n",
    "import os\n",
    "\n",
    "####################\n",
    "# Import Functions\n",
    "####################\n",
    "from ration_balancer_functions import read_input, fl_get_rows, get_nutrient_intakes\n",
    "\n",
    "\n",
    "# Modify path temporarily to import functions from NASEM_functions directory\n",
    "current_dir = os.getcwd()\n",
    "parent_dir = os.path.dirname(current_dir)\n",
    "sys.path.append(parent_dir)\n",
    "from NASEM_functions.ration_balancing_equations import calculate_Dt_DMIn_Lact1\n"
   ]
  },
  {
   "cell_type": "code",
   "execution_count": 4,
   "metadata": {},
   "outputs": [],
   "source": [
    "def NASEM_model():\n",
    "########################################\n",
    "# Step 1: Read User Input\n",
    "########################################\n",
    "    # animal_input is a dictionary with all animal specific parameters\n",
    "    # diet_info is a dataframe with the user entered feed ingredients and %DM intakes\n",
    "    diet_info, animal_input, equation_selection = read_input('input.txt')\n",
    "    \n",
    "    # list_of_feeds is used to query the database and retrieve the ingredient composition, stored in feed_data\n",
    "    list_of_feeds = diet_info['Feedstuff'].tolist()\n",
    "    feed_data = fl_get_rows(list_of_feeds)\n",
    "\n",
    "    # Scale %_DM_intake to 100%\n",
    "    user_perc = diet_info['%_DM_user'].sum()\n",
    "    scaling_factor = 100 / user_perc\n",
    "    diet_info['%_DM_intake'] = diet_info['%_DM_user'] * scaling_factor\n",
    "    # Adjust so sum is exactly 100\n",
    "    adjustment = 100 - diet_info['%_DM_intake'].sum()\n",
    "    diet_info['%_DM_intake'] += adjustment / len(diet_info)\n",
    "\n",
    "    diet_info['kg_intake'] = diet_info['%_DM_intake'] / 100 * animal_input['DMI']\n",
    "\n",
    "    # Predict DMI\n",
    "    if equation_selection['DMI_pred'] == 0:\n",
    "        animal_input['DMI'] = calculate_Dt_DMIn_Lact1(animal_input['An_Parity_rl'], animal_input['Trg_MilkProd'], animal_input['An_BW'], animal_input['An_BCS'],\n",
    "                                                      animal_input['An_LactDay'], animal_input['Trg_MilkFatp'], animal_input['Trg_MilkTPp'], animal_input['Trg_MilkLacp'])\n",
    "\n",
    "########################################\n",
    "# Step 2: Feed Based Calculations\n",
    "########################################\n",
    "    diet_info = get_nutrient_intakes(diet_info, feed_data, animal_input, equation_selection)\n",
    "\n",
    "    # Return so they can be viewed in environment\n",
    "    return diet_info, animal_input, feed_data, equation_selection"
   ]
  },
  {
   "cell_type": "code",
   "execution_count": 5,
   "metadata": {},
   "outputs": [],
   "source": [
    "# Assign values here so they can be see in environment\n",
    "diet_info, animal_input, feed_data, equation_selection = NASEM_model()"
   ]
  }
 ],
 "metadata": {
  "kernelspec": {
   "display_name": "NASEM_py_env",
   "language": "python",
   "name": "python3"
  },
  "language_info": {
   "codemirror_mode": {
    "name": "ipython",
    "version": 3
   },
   "file_extension": ".py",
   "mimetype": "text/x-python",
   "name": "python",
   "nbconvert_exporter": "python",
   "pygments_lexer": "ipython3",
   "version": "3.11.3"
  },
  "orig_nbformat": 4
 },
 "nbformat": 4,
 "nbformat_minor": 2
}
