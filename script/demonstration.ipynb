{
 "cells": [
  {
   "cell_type": "code",
   "execution_count": 13,
   "metadata": {},
   "outputs": [],
   "source": [
    "import pandas as pd\n",
    "import math\n",
    "import fastparquet\n",
    "import sqlite3"
   ]
  },
  {
   "cell_type": "code",
   "execution_count": 14,
   "metadata": {},
   "outputs": [],
   "source": [
    "# Create dataframe with test data\n",
    "input_data = pd.read_parquet('../test_files/merged_cow_with_feed_daily_20230530_1557.parquet')\n",
    "# Remove animals missing diet information\n",
    "clean_data = input_data.dropna(subset=['sampleId'])"
   ]
  },
  {
   "cell_type": "code",
   "execution_count": 15,
   "metadata": {},
   "outputs": [
    {
     "name": "stdout",
     "output_type": "stream",
     "text": [
      "      cow_id  An_Parity_rl       date  An_LactDay  Trg_MilkProd  weight\n",
      "1658    4921             1 2021-01-25       140.0         27.81   663.0\n",
      "1659    4823             2 2021-01-25        72.0         31.97   734.0\n"
     ]
    }
   ],
   "source": [
    "# Cleaning Data: Step 1\n",
    "# Rename all columns so the same variable names are used throughout the model\n",
    "\n",
    "def fix_column_names(df):\n",
    "    df = df.rename(columns={\n",
    "        'lactation_number': 'An_Parity_rl',\n",
    "        'days_in_milk': 'An_LactDay',\n",
    "        'MY': 'Trg_MilkProd',\n",
    "        'BW_smooth': 'An_BW',\n",
    "        'DMI': 'Dt_DMIn',\n",
    "        'Fat %': 'Trg_MilkFatp',\n",
    "        'Protein %': 'Trg_MilkTPp',\n",
    "        'days_preg': 'An_GestDay',\n",
    "        'Neutral Detergent Fibre (%)': 'Dt_NDFIn'\n",
    "    })\n",
    "    return df\n",
    "\n",
    "clean_data = fix_column_names(clean_data)\n",
    "print(clean_data.iloc[:, :6].head(2))\n"
   ]
  },
  {
   "cell_type": "code",
   "execution_count": 24,
   "metadata": {},
   "outputs": [
    {
     "name": "stdout",
     "output_type": "stream",
     "text": [
      "                                                Diet_ID  \\\n",
      "1658          DAIRY - LACTATING TMR_2021-01-25 00:00:00   \n",
      "2290            DAIRY-LACTATING TMR_2021-02-04 00:00:00   \n",
      "4039           DARIRY LACTATING TMR_2021-03-05 00:00:00   \n",
      "5807  DAIRY NON RUMENSIN LACTATING TMR_2021-04-08 00...   \n",
      "\n",
      "                              sampleId reportDate location  \\\n",
      "1658             DAIRY - LACTATING TMR 2021-01-25  parlour   \n",
      "2290               DAIRY-LACTATING TMR 2021-02-04  parlour   \n",
      "4039              DARIRY LACTATING TMR 2021-03-05  parlour   \n",
      "5807  DAIRY NON RUMENSIN LACTATING TMR 2021-04-08  parlour   \n",
      "\n",
      "      Acid Detergent Fibre (%)  Ash (%)  \n",
      "1658                     21.23     6.56  \n",
      "2290                     21.12     6.48  \n",
      "4039                     19.68     5.92  \n",
      "5807                     23.00     6.43  \n"
     ]
    },
    {
     "ename": "NameError",
     "evalue": "name 'Diet_ID' is not defined",
     "output_type": "error",
     "traceback": [
      "\u001b[1;31m---------------------------------------------------------------------------\u001b[0m",
      "\u001b[1;31mNameError\u001b[0m                                 Traceback (most recent call last)",
      "Cell \u001b[1;32mIn[24], line 40\u001b[0m\n\u001b[0;32m     37\u001b[0m current_diets \u001b[39m=\u001b[39m check_diets(clean_data)\n\u001b[0;32m     38\u001b[0m \u001b[39mprint\u001b[39m(current_diets\u001b[39m.\u001b[39miloc[:, :\u001b[39m6\u001b[39m]\u001b[39m.\u001b[39mhead(\u001b[39m4\u001b[39m))\n\u001b[1;32m---> 40\u001b[0m save_to_database(current_diets, Diet_ID)\n",
      "\u001b[1;31mNameError\u001b[0m: name 'Diet_ID' is not defined"
     ]
    }
   ],
   "source": [
    "# Cleaning Data: Step 2\n",
    "# Move diet information to the database and replace with unique Diet_ID\n",
    "\n",
    "def assign_diet_id(row):\n",
    "    return f\"{row['sampleId']}_{row['reportDate']}\"\n",
    "\n",
    "def check_diets(df):\n",
    "    # Create dataframe with each unique diet\n",
    "    unique_diets = df[['sampleId', 'reportDate']].drop_duplicates()\n",
    "    unique_diet_list = unique_diets.index.values.tolist()\n",
    "\n",
    "    # Index numbers in list are off because I deleted the top of the dataframe with missing feed data\n",
    "    # If I had not then 'diet_data' could be used here instead of 'input_data'\n",
    "    current_diets = input_data.iloc[unique_diet_list]\n",
    "\n",
    "    # Removing all non diet data \n",
    "    columns_to_remove = ['lactation_number', 'days_in_milk', 'MY', 'weight', 'BW_smooth', 'BW_gain', 'asfed_intake', 'DMI', 'bcs_value', 'Birth Date', 'Test Day Date',\n",
    "                        'Lact Start Date', 'Fat %', 'Protein %', 'SCC', 'Pregnancy Indicator', 'Days to Last Breeding', 'days_preg', 'conception_date', 'age_m', 'cow_id', 'date', 'DIM_bins_w']\n",
    "    current_diets = current_diets.drop(columns=columns_to_remove)\n",
    "\n",
    "    # Add Diet_ID to first column using assign_diet_id fucntion\n",
    "    new_column = current_diets.apply(assign_diet_id, axis=1)\n",
    "    current_diets.insert(0, 'Diet_ID', new_column)\n",
    "\n",
    "    return current_diets\n",
    "\n",
    "def save_to_database(df, index):\n",
    "    # Save unique diets to database\n",
    "    conn = sqlite3.connect('../diet_database.db')\n",
    "    cursor = conn.cursor()\n",
    "\n",
    "    df.set_index('index', inplace=True)\n",
    "    df.to_sql('df', conn, if_exists='replace')\n",
    "\n",
    "    conn.close()\n",
    "\n",
    "current_diets = check_diets(clean_data)\n",
    "print(current_diets.iloc[:, :6].head(4))\n",
    "\n",
    "save_to_database(current_diets, Diet_ID)"
   ]
  }
 ],
 "metadata": {
  "kernelspec": {
   "display_name": "NASEM_py_env",
   "language": "python",
   "name": "python3"
  },
  "language_info": {
   "codemirror_mode": {
    "name": "ipython",
    "version": 3
   },
   "file_extension": ".py",
   "mimetype": "text/x-python",
   "name": "python",
   "nbconvert_exporter": "python",
   "pygments_lexer": "ipython3",
   "version": "3.11.3"
  },
  "orig_nbformat": 4
 },
 "nbformat": 4,
 "nbformat_minor": 2
}
