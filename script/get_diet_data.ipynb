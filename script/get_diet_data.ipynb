{
 "cells": [
  {
   "cell_type": "code",
   "execution_count": 1,
   "metadata": {},
   "outputs": [],
   "source": [
    "import pandas as pd\n",
    "import fastparquet\n",
    "import sqlite3"
   ]
  },
  {
   "cell_type": "code",
   "execution_count": 2,
   "metadata": {},
   "outputs": [],
   "source": [
    "# Check cow diet and use for calculations \n",
    "\n",
    "input_data = pd.read_parquet('../test_files/merged_cow_with_feed_7day_means_20230530_1557.parquet')\n",
    "\n",
    "# Remove animal inputs to work with just diet \n",
    "columns_to_remove = ['lactation_number', 'days_in_milk', 'MY', 'weight', 'BW_smooth', 'BW_gain', 'asfed_intake', 'DMI', 'bcs_value', 'Birth Date', 'Test Day Date',\n",
    "                     'Lact Start Date', 'Fat %', 'Protein %', 'SCC', 'Pregnancy Indicator', 'Days to Last Breeding', 'days_preg', 'conception_date', 'age_m']\n",
    "diet_data = input_data.drop(columns=columns_to_remove)\n",
    "\n",
    "# Remove rows missing diet information\n",
    "diet_data = diet_data.dropna(subset=['sampleId'])"
   ]
  },
  {
   "cell_type": "code",
   "execution_count": null,
   "metadata": {},
   "outputs": [],
   "source": [
    "# Find all the unique diet being fed\n",
    "\n",
    "# diets = diet_data.sampleId.unique()\n",
    "# sample_days = diet_data.reportDate.unique()\n",
    "# # print(diets)\n",
    "# # print(sample_days)\n",
    "\n",
    "unique_diets = diet_data[['sampleId', 'reportDate']].drop_duplicates()\n",
    "print(unique_diets)"
   ]
  },
  {
   "cell_type": "code",
   "execution_count": null,
   "metadata": {},
   "outputs": [],
   "source": [
    "# Seting up a database with sqlite3\n",
    "\n",
    "# This connects to the specified database, if the database does not exist it will be created\n",
    "conn = sqlite3.connect('../diet_database.db')\n",
    "\n",
    "# Create a cursor to interact with database\n",
    "cursor = conn.cursor()\n",
    "\n",
    "# Save the diet_data dataframe to the database table 'current_diets'\n",
    "diet_data.to_sql('current_diets', conn, if_exists='replace', index=False)\n",
    "\n",
    "# Close connection to database once finished \n",
    "conn.close()"
   ]
  },
  {
   "cell_type": "code",
   "execution_count": null,
   "metadata": {},
   "outputs": [],
   "source": [
    "# Display a database table in python\n",
    "\n",
    "conn = sqlite3.connect('../diet_database.db')\n",
    "cursor = conn.cursor()\n",
    "\n",
    "cursor.execute('SELECT * FROM current_diets')\n",
    "rows = cursor.fetchall()\n",
    "\n",
    "for row in rows:\n",
    "    print(row)\n",
    "\n",
    "conn.close()"
   ]
  },
  {
   "cell_type": "code",
   "execution_count": 4,
   "metadata": {},
   "outputs": [],
   "source": [
    "# Create dataframe with each unique diet\n",
    "\n",
    "unique_diets = diet_data[['sampleId', 'reportDate']].drop_duplicates()\n",
    "unique_diet_list = unique_diets.index.values.tolist()\n",
    "\n",
    "# Index numbers in list are off because I deleted the top of the dataframe with missing feed data\n",
    "# If I had not then 'diet_data' could be used here instead of 'input_data'\n",
    "current_diets = input_data.iloc[unique_diet_list]\n",
    "\n",
    "# Removing all non diet data \n",
    "columns_to_remove = ['lactation_number', 'days_in_milk', 'MY', 'weight', 'BW_smooth', 'BW_gain', 'asfed_intake', 'DMI', 'bcs_value', 'Birth Date', 'Test Day Date',\n",
    "                     'Lact Start Date', 'Fat %', 'Protein %', 'SCC', 'Pregnancy Indicator', 'Days to Last Breeding', 'days_preg', 'conception_date', 'age_m', 'cow_id', 'date', 'DIM_bins_w']\n",
    "current_diets = current_diets.drop(columns=columns_to_remove)\n",
    "\n"
   ]
  },
  {
   "cell_type": "code",
   "execution_count": 5,
   "metadata": {},
   "outputs": [],
   "source": [
    "# Generate a unique ID for each diet\n",
    "\n",
    "def assign_diet_id(row):\n",
    "    return f\"{row['sampleId']}_{row['reportDate']}\"\n",
    "\n",
    "# Assign IDs to diet data\n",
    "new_column = current_diets.apply(assign_diet_id, axis=1)\n",
    "current_diets.insert(0, 'Diet_ID', new_column)\n",
    "# diet_data.drop(columns=['sampleId', 'reportDate'])\n",
    "\n",
    "# Assign IDs to animal data\n"
   ]
  },
  {
   "cell_type": "code",
   "execution_count": 6,
   "metadata": {},
   "outputs": [],
   "source": [
    "# Save unique diets to database\n",
    "conn = sqlite3.connect('../diet_database.db')\n",
    "cursor = conn.cursor()\n",
    "\n",
    "current_diets.to_sql('current_diets', conn, if_exists='replace', index=False)\n",
    "\n",
    "conn.close()"
   ]
  }
 ],
 "metadata": {
  "kernelspec": {
   "display_name": "NASEM_py_env",
   "language": "python",
   "name": "python3"
  },
  "language_info": {
   "codemirror_mode": {
    "name": "ipython",
    "version": 3
   },
   "file_extension": ".py",
   "mimetype": "text/x-python",
   "name": "python",
   "nbconvert_exporter": "python",
   "pygments_lexer": "ipython3",
   "version": "3.11.3"
  },
  "orig_nbformat": 4
 },
 "nbformat": 4,
 "nbformat_minor": 2
}
