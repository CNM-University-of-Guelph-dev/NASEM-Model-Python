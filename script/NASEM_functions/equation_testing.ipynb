{
 "cells": [
  {
   "cell_type": "code",
   "execution_count": 13,
   "metadata": {},
   "outputs": [
    {
     "name": "stdout",
     "output_type": "stream",
     "text": [
      "Index(['Arg', 'His', 'Ile', 'Leu', 'Lys', 'Met', 'Phe', 'Thr', 'Trp', 'Val'], dtype='object', name='AA')\n"
     ]
    }
   ],
   "source": [
    "import pandas as pd\n",
    "\n",
    "AA_values = pd.read_csv('../../test_files/AA_test_data.csv')\n",
    "AA_values = AA_values.set_index('AA')\n",
    "print(AA_values.index)"
   ]
  },
  {
   "cell_type": "code",
   "execution_count": 16,
   "metadata": {},
   "outputs": [
    {
     "name": "stdout",
     "output_type": "stream",
     "text": [
      "137.4588526\n"
     ]
    }
   ],
   "source": [
    "An_idRUPIn = 1.2122879054\n",
    "# From calculate_nutrient_intakes\n",
    "\n",
    "def calc_Mlk_NP_g(df, An_idRUPIn):\n",
    "    # Unpack the AA_values dataframe into dictionaries\n",
    "    AA_list = ['Arg', 'His', 'Ile', 'Leu', 'Lys', 'Met', 'Phe', 'Thr', 'Trp', 'Val']\n",
    "    Abs_AA_g = {}\n",
    "    mPrt_k_AA = {}\n",
    "\n",
    "    for AA in AA_list:\n",
    "        Abs_AA_g[AA] = df.loc[AA, 'Abs_AA_g']\n",
    "        mPrt_k_AA[AA] = df.loc[AA, 'mPrt_k_AA']\n",
    "\n",
    "    # Calculate Mlk_NP_g\n",
    "    mPrt_Int = -97                                      # Line 2097, 2078\n",
    "\n",
    "\n",
    "\n",
    "\n",
    "    Du_idMiTP_g = fMiTP_MiCP * Du_idMiCP_g              # Line 1182\n",
    "    Du_idMiTP = Du_idMiTP_g / 1000\n",
    "    An_MPIn = An_idRUPIn + Du_idMiTP                    # Line 1236\n",
    "    An_MPIn_g = An_MPIn * 1000                          # Line 1238\n",
    "    Abs_neAA_g = An_MPIn_g * 1.15 - Abs_EAA_g           # Line 1771\n",
    "\n",
    "\n",
    "    Mlk_NP_g = mPrt_Int + Abs_AA_g['Arg'] * mPrt_k_AA['Arg'] + Abs_AA_g['His'] * mPrt_k_AA['His'] \\\n",
    "                + Abs_AA_g['Ile'] * mPrt_k_AA['Ile'] + Abs_AA_g['Leu'] * mPrt_k_AA['Leu'] \\\n",
    "                + Abs_AA_g['Lys'] * mPrt_k_AA['Lys'] + Abs_AA_g['Met'] * mPrt_k_AA['Met'] \\\n",
    "                + Abs_AA_g['Phe'] * mPrt_k_AA['Phe'] + Abs_AA_g['Thr'] * mPrt_k_AA['Thr'] \\\n",
    "                + Abs_AA_g['Trp'] * mPrt_k_AA['Trp'] + Abs_AA_g['Val'] * mPrt_k_AA['Val'] \\         \n",
    "\n",
    "    return Mlk_NP_g\n",
    "\n",
    "Mlk_NP_g = calc_Mlk_NP_g(AA_values)"
   ]
  }
 ],
 "metadata": {
  "kernelspec": {
   "display_name": "NASEM_py_env",
   "language": "python",
   "name": "python3"
  },
  "language_info": {
   "codemirror_mode": {
    "name": "ipython",
    "version": 3
   },
   "file_extension": ".py",
   "mimetype": "text/x-python",
   "name": "python",
   "nbconvert_exporter": "python",
   "pygments_lexer": "ipython3",
   "version": "3.11.3"
  },
  "orig_nbformat": 4
 },
 "nbformat": 4,
 "nbformat_minor": 2
}
