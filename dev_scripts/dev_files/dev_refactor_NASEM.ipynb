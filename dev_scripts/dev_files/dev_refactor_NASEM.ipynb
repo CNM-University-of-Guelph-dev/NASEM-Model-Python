{
 "cells": [
  {
   "cell_type": "markdown",
   "metadata": {},
   "source": [
    "# TODO\n",
    "\n",
    "2. Document execute_model function\n",
    "4. Format outputs from model\n",
    " "
   ]
  },
  {
   "cell_type": "code",
   "execution_count": 1,
   "metadata": {},
   "outputs": [],
   "source": [
    "# Refactoring NASEM model\n",
    "import nasem_dairy as nd\n",
    "import pandas as pd\n",
    "import math\n",
    "from pprint import pprint\n",
    "from icecream import ic\n",
    "# use package dir to always use /data folder regardless of where this is executed from\n",
    "import importlib_resources\n",
    "\n",
    "path_to_package_data = importlib_resources.files(\"nasem_dairy.data\")\n",
    "\n",
    "# Read_csv to load required data into env\n",
    "user_diet_in, animal_input_in, equation_selection_in = nd.read_csv_input(path_to_package_data.joinpath(\"./input.csv\"))\n",
    "\n",
    "# Load feed library\n",
    "feed_library_in = pd.read_csv(path_to_package_data.joinpath(\"NASEM_feed_library.csv\"))\n",
    "\n",
    "# Prepare infusion data (This will be optional as a default dict of 0 is provided to function otherwise)\n",
    "infusion_custom = nd.read_infusion_input(path_to_package_data.joinpath(\"infusion_input.csv\"))\n"
   ]
  },
  {
   "cell_type": "markdown",
   "metadata": {},
   "source": [
    "# Execute Model"
   ]
  },
  {
   "cell_type": "code",
   "execution_count": 8,
   "metadata": {},
   "outputs": [],
   "source": [
    "animal_input, diet_info, equation_selection, diet_data, AA_values, infusion_data, An_data, model_out_dict = nd.execute_model(\n",
    "    user_diet = user_diet_in, \n",
    "    animal_input = animal_input_in, \n",
    "    equation_selection = equation_selection_in, \n",
    "    feed_library_df = feed_library_in, \n",
    "    coeff_dict = nd.coeff_dict)\n"
   ]
  },
  {
   "cell_type": "markdown",
   "metadata": {},
   "source": [
    "# Run model - different options"
   ]
  },
  {
   "cell_type": "code",
   "execution_count": null,
   "metadata": {},
   "outputs": [],
   "source": [
    "pd.set_option('display.max_columns', 100)"
   ]
  },
  {
   "cell_type": "code",
   "execution_count": null,
   "metadata": {},
   "outputs": [],
   "source": [
    "animal_input, diet_info, equation_selection, diet_data, AA_values, infusion_data, An_data, model_out_dict = nd.execute_model(\n",
    "    user_diet = user_diet_in, \n",
    "    animal_input = animal_input_in, \n",
    "    equation_selection = equation_selection_in, \n",
    "    feed_library_df = feed_library_in, \n",
    "    coeff_dict = nd.coeff_dict)\n",
    "\n",
    "# diet_info\n",
    "An_data"
   ]
  },
  {
   "cell_type": "markdown",
   "metadata": {},
   "source": [
    "## Toggle infusions\n",
    "Notes: found that infusions are being imported within the function, need to move all file imports out of the run model function.\n",
    "There is also double up of the logic for use_infusions, so modifying that to check which one to use once. \n",
    "It could actually be avoided by just providing a default infusion dictionary if one is not given to function directly.\n",
    "These changes make the 'use_infusions' flag obsolete"
   ]
  },
  {
   "cell_type": "code",
   "execution_count": 5,
   "metadata": {},
   "outputs": [],
   "source": [
    "# Test DMI equations\n",
    "equation_selection_in['use_infusions'] = 0 # FALSE\n",
    "\n",
    "animal_input, diet_info, equation_selection, diet_data, AA_values, infusion_data, An_data, model_out_dict = nd.execute_model(\n",
    "    user_diet = user_diet_in, \n",
    "    animal_input = animal_input_in, \n",
    "    equation_selection = equation_selection_in, \n",
    "    feed_library_df = feed_library_in, \n",
    "    coeff_dict = nd.coeff_dict)\n",
    "\n",
    "# diet_info\n",
    "# infusion_data\n"
   ]
  },
  {
   "cell_type": "code",
   "execution_count": 6,
   "metadata": {},
   "outputs": [
    {
     "data": {
      "text/plain": [
       "{'infusion_data': {'Inf_Acet_g': 3000.0,\n",
       "  'Inf_ADF_g': 4000.0,\n",
       "  'Inf_Arg_g': 5000.0,\n",
       "  'Inf_Ash_g': 6000.0,\n",
       "  'Inf_Butr_g': 7000.0,\n",
       "  'Inf_CP_g': 8000.0,\n",
       "  'Inf_CPARum_CP': 9000.0,\n",
       "  'Inf_CPBRum_CP': 10000.0,\n",
       "  'Inf_CPCRum_CP': 11000.0,\n",
       "  'Inf_dcFA': 12000.0,\n",
       "  'Inf_dcRUP': 13000.0,\n",
       "  'Inf_DM_g': 14000.0,\n",
       "  'Inf_EE_g': 15000.0,\n",
       "  'Inf_FA_g': 16000.0,\n",
       "  'Inf_Glc_g': 17000.0,\n",
       "  'Inf_His_g': 18000.0,\n",
       "  'Inf_Ile_g': 19000.0,\n",
       "  'Inf_KdCPB': 20000.0,\n",
       "  'Inf_Leu_g': 21000.0,\n",
       "  'Inf_Lys_g': 22000.0,\n",
       "  'Inf_Met_g': 23000.0,\n",
       "  'Inf_NDF_g': 24000.0,\n",
       "  'Inf_NPNCP_g': 25000.0,\n",
       "  'Inf_Phe_g': 26000.0,\n",
       "  'Inf_Prop_g': 27000.0,\n",
       "  'Inf_St_g': 28000.0,\n",
       "  'Inf_Thr_g': 29000.0,\n",
       "  'Inf_Trp_g': 30000.0,\n",
       "  'Inf_ttdcSt': 31000.0,\n",
       "  'Inf_Val_g': 32000.0,\n",
       "  'Inf_VFA_g': 33000.0,\n",
       "  'Inf_Location': nan,\n",
       "  'Inf_DMIn': 14.0,\n",
       "  'Inf_StIn': 28.0,\n",
       "  'Inf_NDFIn': 24.0,\n",
       "  'Inf_ADFIn': 4.0,\n",
       "  'Inf_GlcIn': 17.0,\n",
       "  'Inf_CPIn': 8.0,\n",
       "  'Inf_NPNCPIn': 25.0,\n",
       "  'Inf_FAIn': 16.0,\n",
       "  'Inf_AshIn': 6.0,\n",
       "  'Inf_VFAIn': 33.0,\n",
       "  'Inf_AcetIn': 3.0,\n",
       "  'Inf_PropIn': 27.0,\n",
       "  'Inf_ButrIn': 7.0,\n",
       "  'Inf_CPAIn': 720.0,\n",
       "  'Inf_CPBIn': 800.0,\n",
       "  'Inf_CPCIn': 880.0,\n",
       "  'Inf_TPIn': -17.0,\n",
       "  'Inf_OMIn': 8.0,\n",
       "  'Inf_DM': 36.34381246592768,\n",
       "  'Inf_OM': 20.767892837672957,\n",
       "  'Inf_St': 72.68762493185535,\n",
       "  'Inf_NDF': 62.303678513018866,\n",
       "  'Inf_ADF': 10.383946418836478,\n",
       "  'Inf_Glc': 44.13177228005503,\n",
       "  'Inf_CP': 20.767892837672957,\n",
       "  'Inf_FA': 41.53578567534591,\n",
       "  'Inf_VFA': 85.66755795540095,\n",
       "  'Inf_Acet': 7.787959814127358,\n",
       "  'Inf_Prop': 70.09163832714623,\n",
       "  'Inf_Butr': 18.17190623296384,\n",
       "  'Inf_Rum': array(0),\n",
       "  'Inf_SI': array(0),\n",
       "  'Inf_Art': array(0),\n",
       "  'InfRum_DMIn': 0.0,\n",
       "  'InfRum_OMIn': 0.0,\n",
       "  'InfRum_CPIn': 0.0,\n",
       "  'InfRum_NPNCPIn': 0.0,\n",
       "  'InfRum_CPAIn': 0.0,\n",
       "  'InfRum_CPBIn': 0.0,\n",
       "  'InfRum_CPCIn': 0.0,\n",
       "  'InfRum_StIn': 0.0,\n",
       "  'InfRum_NDFIn': 0.0,\n",
       "  'InfRum_ADFIn': 0.0,\n",
       "  'InfRum_FAIn': 0.0,\n",
       "  'InfRum_GlcIn': 0.0,\n",
       "  'InfRum_VFAIn': 0.0,\n",
       "  'InfRum_AcetIn': 0.0,\n",
       "  'InfRum_PropIn': 0.0,\n",
       "  'InfRum_ButrIn': 0.0,\n",
       "  'InfRum_AshIn': 0.0,\n",
       "  'InfRum_TPIn': 0.0,\n",
       "  'InfSI_DMIn': 0.0,\n",
       "  'InfSI_OMIn': 0.0,\n",
       "  'InfSI_CPIn': 0.0,\n",
       "  'InfSI_NPNCPIn': 0.0,\n",
       "  'InfSI_StIn': 0.0,\n",
       "  'InfSI_GlcIn': 0.0,\n",
       "  'InfSI_NDFIn': 0.0,\n",
       "  'InfSI_ADFIn': 0.0,\n",
       "  'InfSI_FAIn': 0.0,\n",
       "  'InfSI_VFAIn': 0.0,\n",
       "  'InfSI_AcetIn': 0.0,\n",
       "  'InfSI_PropIn': 0.0,\n",
       "  'InfSI_ButrIn': 0.0,\n",
       "  'InfSI_AshIn': 0.0,\n",
       "  'InfSI_TPIn': 0.0,\n",
       "  'InfArt_DMIn': 14.0,\n",
       "  'InfArt_OMIn': 8.0,\n",
       "  'InfArt_CPIn': 8.0,\n",
       "  'InfArt_NPNCPIn': 25.0,\n",
       "  'InfArt_TPIn': -17.0,\n",
       "  'InfArt_StIn': 28.0,\n",
       "  'InfArt_GlcIn': 17.0,\n",
       "  'InfArt_NDFIn': 24.0,\n",
       "  'InfArt_ADFIn': 4.0,\n",
       "  'InfArt_FAIn': 16.0,\n",
       "  'InfArt_VFAIn': 33.0,\n",
       "  'InfArt_AcetIn': 3.0,\n",
       "  'InfArt_PropIn': 27.0,\n",
       "  'InfArt_ButrIn': 7.0,\n",
       "  'InfArt_AshIn': 6.0,\n",
       "  'InfRum_RUPIn': 0.0,\n",
       "  'InfRum_RUP_CP': 0,\n",
       "  'InfRum_idRUPIn': 0.0,\n",
       "  'InfSI_idTPIn': 0.0,\n",
       "  'InfSI_idCPIn': 0.0,\n",
       "  'Inf_idCPIn': 0.0,\n",
       "  'InfRum_RDPIn': 0.0,\n",
       "  'Inf_DigFAIn': 1168.0,\n",
       "  'Inf_DEAcetIn': 10.44,\n",
       "  'Inf_DEPropIn': 133.92,\n",
       "  'Inf_DEButrIn': 41.65,\n",
       "  'Inf_ArgRUPIn': 0.0,\n",
       "  'Inf_IdArgIn': 0.0,\n",
       "  'Inf_HisRUPIn': 0.0,\n",
       "  'Inf_IdHisIn': 0.0,\n",
       "  'Inf_IleRUPIn': 0.0,\n",
       "  'Inf_IdIleIn': 0.0,\n",
       "  'Inf_LeuRUPIn': 0.0,\n",
       "  'Inf_IdLeuIn': 0.0,\n",
       "  'Inf_LysRUPIn': 0.0,\n",
       "  'Inf_IdLysIn': 0.0,\n",
       "  'Inf_MetRUPIn': 0.0,\n",
       "  'Inf_IdMetIn': 0.0,\n",
       "  'Inf_PheRUPIn': 0.0,\n",
       "  'Inf_IdPheIn': 0.0,\n",
       "  'Inf_ThrRUPIn': 0.0,\n",
       "  'Inf_IdThrIn': 0.0,\n",
       "  'Inf_TrpRUPIn': 0.0,\n",
       "  'Inf_IdTrpIn': 0.0,\n",
       "  'Inf_ValRUPIn': 0.0,\n",
       "  'Inf_IdValIn': 0.0},\n",
       " 'Du_MiN_g': 328.3848336435502,\n",
       " 'Dt_DEIn': array(72.8993034),\n",
       " 'An_DEIn': array(48046.7793034)}"
      ]
     },
     "execution_count": 6,
     "metadata": {},
     "output_type": "execute_result"
    }
   ],
   "source": [
    "# equation_selection_in['use_infusions'] = 1\n",
    "\n",
    "animal_input, diet_info, equation_selection, diet_data, AA_values, infusion_data, An_data, model_out_dict = nd.execute_model(\n",
    "    user_diet = user_diet_in, \n",
    "    animal_input = animal_input_in, \n",
    "    equation_selection = equation_selection_in, \n",
    "    feed_library_df = feed_library_in, \n",
    "    coeff_dict = nd.coeff_dict,\n",
    "    infusion_input= infusion_custom)\n",
    "\n",
    "# diet_info\n",
    "model_out_dict"
   ]
  },
  {
   "cell_type": "markdown",
   "metadata": {},
   "source": [
    "## Test DMI equation selections"
   ]
  },
  {
   "cell_type": "code",
   "execution_count": 7,
   "metadata": {},
   "outputs": [
    {
     "data": {
      "text/plain": [
       "24.521"
      ]
     },
     "execution_count": 7,
     "metadata": {},
     "output_type": "execute_result"
    }
   ],
   "source": [
    "# Equation = 0 should match user input:\n",
    "equation_selection_in['DMIn_eqn'] = 0\n",
    "animal_input_in['DMI'] = 24.521 # same as .csv file\n",
    "\n",
    "animal_input, diet_info, equation_selection, diet_data, AA_values, infusion_data, An_data, model_out_dict = nd.execute_model(\n",
    "    user_diet = user_diet_in, \n",
    "    animal_input = animal_input_in, \n",
    "    equation_selection = equation_selection_in, \n",
    "    feed_library_df = feed_library_in, \n",
    "    coeff_dict = nd.coeff_dict)\n",
    "\n",
    "animal_input['DMI']"
   ]
  },
  {
   "cell_type": "code",
   "execution_count": 8,
   "metadata": {},
   "outputs": [
    {
     "data": {
      "text/plain": [
       "21.687577670699824"
      ]
     },
     "execution_count": 8,
     "metadata": {},
     "output_type": "execute_result"
    }
   ],
   "source": [
    "# Equation = 8 should calculate calculate_Dt_DMIn_Lact1()\n",
    "equation_selection_in['DMIn_eqn'] = 8\n",
    "animal_input_in['DMI'] = 24.521 # same as .csv file\n",
    "\n",
    "animal_input, diet_info, equation_selection, diet_data, AA_values, infusion_data, An_data, model_out_dict = nd.execute_model(\n",
    "    user_diet = user_diet_in, \n",
    "    animal_input = animal_input_in, \n",
    "    equation_selection = equation_selection_in, \n",
    "    feed_library_df = feed_library_in, \n",
    "    coeff_dict = nd.coeff_dict)\n",
    "\n",
    "animal_input['DMI']"
   ]
  },
  {
   "cell_type": "code",
   "execution_count": 9,
   "metadata": {},
   "outputs": [
    {
     "name": "stdout",
     "output_type": "stream",
     "text": [
      "DMIn_eqn uncaught - DMI not changed. equation_selection[DMIn_eqn]: 1\n",
      "DMIn_eqn uncaught - DMI not changed. equation_selection[DMIn_eqn]: 9\n"
     ]
    },
    {
     "data": {
      "text/plain": [
       "[24.521,\n",
       " 24.521,\n",
       " 11.504513756424398,\n",
       " 16.842879099441184,\n",
       " 11.474631902511609,\n",
       " 12.805095198359778,\n",
       " 10.866105707801568,\n",
       " 12.251816154227694,\n",
       " 21.687577670699824,\n",
       " 24.521,\n",
       " 12.323872879290622,\n",
       " 12.364693050000001,\n",
       " 11.504513756424398,\n",
       " 16.842879099441184,\n",
       " 11.474631902511609,\n",
       " 12.805095198359778]"
      ]
     },
     "execution_count": 9,
     "metadata": {},
     "output_type": "execute_result"
    }
   ],
   "source": [
    "# make function to test all values\n",
    "def iterate_test_DMI_eqns(DMIn_eqn):\n",
    "    equation_selection_in_test = equation_selection_in.copy()\n",
    "    equation_selection_in_test['DMIn_eqn'] = DMIn_eqn\n",
    "\n",
    "    animal_input, diet_info, equation_selection, diet_data, AA_values, infusion_data, An_data, model_out_dict = nd.execute_model(\n",
    "        user_diet = user_diet_in, \n",
    "        animal_input = animal_input_in, \n",
    "        equation_selection = equation_selection_in_test, \n",
    "        feed_library_df = feed_library_in, \n",
    "        coeff_dict = nd.coeff_dict)\n",
    "\n",
    "    return (animal_input['DMI'])\n",
    "\n",
    "[iterate_test_DMI_eqns(DMIn_eqn_value) for DMIn_eqn_value in range(0, 16)]\n"
   ]
  },
  {
   "cell_type": "code",
   "execution_count": null,
   "metadata": {},
   "outputs": [],
   "source": [
    "## Still need to test this condition: \n",
    "#if animal_input['An_PrePartWk'] > An_PrePartWkDurat:\n",
    "\n",
    "print(animal_input['An_PrePartWk'])\n",
    "\n",
    "# Calculate additional physiology values\n",
    "An_PrePartDay = animal_input_in['An_GestDay'] - animal_input_in['An_GestLength']\n",
    "An_PrePartDay / 7\n",
    "# animal_input_in['An_PrePartWk']"
   ]
  },
  {
   "cell_type": "markdown",
   "metadata": {},
   "source": [
    "# Test equation_selection['MiN_eqn']"
   ]
  },
  {
   "cell_type": "code",
   "execution_count": 10,
   "metadata": {},
   "outputs": [
    {
     "name": "stdout",
     "output_type": "stream",
     "text": [
      "1\n",
      "2\n",
      "3\n"
     ]
    },
    {
     "data": {
      "text/plain": [
       "[299.31825131136395, 122.74827303321794, 276.5276811382165]"
      ]
     },
     "execution_count": 10,
     "metadata": {},
     "output_type": "execute_result"
    }
   ],
   "source": [
    "# equation_selection['MiN_eqn']\n",
    "\n",
    "\n",
    "# make function to test all values\n",
    "def iterate_test_Du_MiN_g_eqns(MiN_eqn):\n",
    "    print(MiN_eqn)\n",
    "    equation_selection_in_test = equation_selection_in.copy()\n",
    "    equation_selection_in_test['MiN_eqn'] = MiN_eqn\n",
    "\n",
    "    animal_input, diet_info, equation_selection, diet_data, AA_values, infusion_data, An_data, model_out_dict = nd.execute_model(\n",
    "        user_diet = user_diet_in, \n",
    "        animal_input = animal_input_in, \n",
    "        equation_selection = equation_selection_in_test, \n",
    "        feed_library_df = feed_library_in, \n",
    "        coeff_dict = nd.coeff_dict)\n",
    "\n",
    "    return (model_out_dict['Du_MiN_g'])\n",
    "\n",
    "[iterate_test_Du_MiN_g_eqns(DMIn_eqn_value) for DMIn_eqn_value in range(1, 4)]"
   ]
  },
  {
   "cell_type": "code",
   "execution_count": 11,
   "metadata": {},
   "outputs": [
    {
     "data": {
      "text/plain": [
       "{'Use_DNDF_IV': 0.0,\n",
       " 'DMIn_eqn': 8,\n",
       " 'mProd_eqn': 0.0,\n",
       " 'MiN_eqn': 1.0,\n",
       " 'use_infusions': 0,\n",
       " 'NonMilkCP_ClfLiq': 0.0,\n",
       " 'Monensin_eqn': 0.0,\n",
       " 'mPrt_eqn': 0.0}"
      ]
     },
     "execution_count": 11,
     "metadata": {},
     "output_type": "execute_result"
    }
   ],
   "source": [
    "equation_selection_in"
   ]
  },
  {
   "cell_type": "markdown",
   "metadata": {},
   "source": [
    "# test Monensin eqn"
   ]
  },
  {
   "cell_type": "code",
   "execution_count": 12,
   "metadata": {},
   "outputs": [
    {
     "data": {
      "text/plain": [
       "{'Use_DNDF_IV': 0.0,\n",
       " 'DMIn_eqn': 8,\n",
       " 'mProd_eqn': 0.0,\n",
       " 'MiN_eqn': 1.0,\n",
       " 'use_infusions': 0,\n",
       " 'NonMilkCP_ClfLiq': 0.0,\n",
       " 'Monensin_eqn': 0.0,\n",
       " 'mPrt_eqn': 0.0}"
      ]
     },
     "execution_count": 12,
     "metadata": {},
     "output_type": "execute_result"
    }
   ],
   "source": [
    "equation_selection_in\n"
   ]
  },
  {
   "cell_type": "code",
   "execution_count": 13,
   "metadata": {},
   "outputs": [
    {
     "name": "stdout",
     "output_type": "stream",
     "text": [
      "0\n",
      "1\n"
     ]
    },
    {
     "data": {
      "text/plain": [
       "[(array(69.04770702), array(69.04770702)),\n",
       " (array(70.42866116), array(70.42866116))]"
      ]
     },
     "execution_count": 13,
     "metadata": {},
     "output_type": "execute_result"
    }
   ],
   "source": [
    "# make function to test all values\n",
    "def iterate_test_Mon_eqns(Monensin_eqn):\n",
    "    print(Monensin_eqn)\n",
    "    equation_selection_in_test = equation_selection_in.copy()\n",
    "    equation_selection_in_test['Monensin_eqn'] = Monensin_eqn\n",
    "\n",
    "    animal_input, diet_info, equation_selection, diet_data, AA_values, infusion_data, An_data, model_out_dict = nd.execute_model(\n",
    "        user_diet = user_diet_in, \n",
    "        animal_input = animal_input_in, \n",
    "        equation_selection = equation_selection_in_test, \n",
    "        feed_library_df = feed_library_in, \n",
    "        coeff_dict = nd.coeff_dict)\n",
    "\n",
    "    return (model_out_dict['Dt_DEIn'], model_out_dict['An_DEIn'])\n",
    "\n",
    "[iterate_test_Mon_eqns(Monensin_eqn) for Monensin_eqn in range(0, 2)]"
   ]
  }
 ],
 "metadata": {
  "kernelspec": {
   "display_name": "NASEM_model_poetry",
   "language": "python",
   "name": "python3"
  },
  "language_info": {
   "codemirror_mode": {
    "name": "ipython",
    "version": 3
   },
   "file_extension": ".py",
   "mimetype": "text/x-python",
   "name": "python",
   "nbconvert_exporter": "python",
   "pygments_lexer": "ipython3",
   "version": "3.11.7"
  }
 },
 "nbformat": 4,
 "nbformat_minor": 2
}
