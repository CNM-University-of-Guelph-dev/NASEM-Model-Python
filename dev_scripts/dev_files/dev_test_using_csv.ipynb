{
 "cells": [
  {
   "cell_type": "code",
   "execution_count": 10,
   "metadata": {},
   "outputs": [
    {
     "name": "stdout",
     "output_type": "stream",
     "text": [
      "Testing calculate_Fd_NDFnf\n",
      "Testing calculate_Fd_NPNIn\n",
      "Finished testing functions\n"
     ]
    }
   ],
   "source": [
    "import pytest\n",
    "import pandas as pd\n",
    "import nasem_dairy as nd\n",
    "\n",
    "def test_iterate_csv(df):\n",
    "    for index, row in df.iterrows():\n",
    "        name = row['Name']\n",
    "        inputs = row['Input']\n",
    "        output = row['Output']\n",
    "        print(f\"Testing {name}\")\n",
    "\n",
    "        try:\n",
    "            # Use getattr on the nd module to dynamically access the function\n",
    "            func = getattr(nd, name)\n",
    "            result = func(**inputs)\n",
    "\n",
    "            # print(result)\n",
    "            assert result == pytest.approx(output), f\"{result} does not equal {output}\"\n",
    "\n",
    "        except AttributeError:\n",
    "            print(f\"Function {name} not found in module.\")\n",
    "    print(\"Finished testing functions\")\n",
    "\n",
    "data = {'Name': ['calculate_Fd_NDFnf', 'calculate_Fd_NPNIn'],\n",
    "        'Input': [{'Fd_NDF': 3, 'Fd_NDFIP': 2}, {'Fd_NPNCPIn': 10}],\n",
    "        'Output': [1, 1.6]}\n",
    "input_data = pd.DataFrame(data)\n",
    "\n",
    "test_iterate_csv(df=input_data)\n"
   ]
  },
  {
   "cell_type": "code",
   "execution_count": 11,
   "metadata": {},
   "outputs": [
    {
     "name": "stdout",
     "output_type": "stream",
     "text": [
      "Finished testing functions\n"
     ]
    }
   ],
   "source": [
    "# Try to reduce test_iterate_csv to fewest lines possible\n",
    "\n",
    "import pytest\n",
    "import pandas as pd\n",
    "import nasem_dairy as nd\n",
    "\n",
    "def dev_test_from_csv(df):\n",
    "    for index, row in df.iterrows():\n",
    "        try:\n",
    "            func = getattr(nd, row['Name'])\n",
    "            result = func(**row['Input'])\n",
    "            assert result == pytest.approx(row['Output']), f\"{result} does not equal {row['Output']}\"\n",
    "        except AttributeError:\n",
    "            print(f\"Function {row['Name']} not found in module.\")\n",
    "    print(\"Finished testing functions\")\n",
    "\n",
    "data = {'Name': ['calculate_Fd_NDFnf', 'calculate_Fd_NPNIn'],\n",
    "        'Input': [{'Fd_NDF': 3, 'Fd_NDFIP': 2}, {'Fd_NPNCPIn': 10}],\n",
    "        'Output': [1, 1.6]}\n",
    "input_data = pd.DataFrame(data)\n",
    "\n",
    "dev_test_from_csv(input_data)\n",
    "\n"
   ]
  },
  {
   "cell_type": "code",
   "execution_count": 1,
   "metadata": {},
   "outputs": [
    {
     "name": "stdout",
     "output_type": "stream",
     "text": [
      "Finished testing functions\n"
     ]
    }
   ],
   "source": [
    "import pytest\n",
    "import pandas as pd\n",
    "import nasem_dairy as nd\n",
    "\n",
    "def dev_test_from_csv(df):\n",
    "    for index, row in df.iterrows():\n",
    "        try:\n",
    "            func = getattr(nd, row['Name'])\n",
    "            assert func(**row['Input']) == pytest.approx(row['Output']), f\"{result} does not equal {row['Output']}\"\n",
    "        except AttributeError:\n",
    "            print(f\"Function {row['Name']} not found in module.\")\n",
    "    print(\"Finished testing functions\")\n",
    "\n",
    "data = {'Name': ['calculate_Fd_NDFnf', 'calculate_Fd_NPNIn'],\n",
    "        'Input': [{'Fd_NDF': 3, 'Fd_NDFIP': 2}, {'Fd_NPNCPIn': 10}],\n",
    "        'Output': [1, 1.6]}\n",
    "input_data = pd.DataFrame(data)\n",
    "\n",
    "dev_test_from_csv(input_data)"
   ]
  },
  {
   "cell_type": "code",
   "execution_count": 8,
   "metadata": {},
   "outputs": [
    {
     "name": "stdout",
     "output_type": "stream",
     "text": [
      "Finished testing functions\n"
     ]
    }
   ],
   "source": [
    "import pytest\n",
    "import pandas as pd\n",
    "import nasem_dairy as nd\n",
    "\n",
    "def dev_test_from_csv(df):\n",
    "    for index, row in df.iterrows():\n",
    "        try:\n",
    "            func = getattr(nd, row.Name)\n",
    "            assert func(**row.Input) == pytest.approx(row.Output), f\"{func(**row.Input)} does not equal {row.Output}\"\n",
    "        except AttributeError:\n",
    "            print(f\"Function {row.Name} not found in module.\")\n",
    "    print(\"Finished testing functions\")\n",
    "\n",
    "data = {'Name': ['calculate_Fd_NDFnf', 'calculate_Fd_NPNIn'],\n",
    "        'Input': [{'Fd_NDF': 3, 'Fd_NDFIP': 2}, {'Fd_NPNCPIn': 10}],\n",
    "        'Output': [1, 1.6]}\n",
    "input_data = pd.DataFrame(data)\n",
    "\n",
    "dev_test_from_csv(input_data)\n"
   ]
  }
 ],
 "metadata": {
  "kernelspec": {
   "display_name": "nasem-dairy-fIzWP63M-py3.11",
   "language": "python",
   "name": "python3"
  },
  "language_info": {
   "codemirror_mode": {
    "name": "ipython",
    "version": 3
   },
   "file_extension": ".py",
   "mimetype": "text/x-python",
   "name": "python",
   "nbconvert_exporter": "python",
   "pygments_lexer": "ipython3",
   "version": "3.11.1"
  }
 },
 "nbformat": 4,
 "nbformat_minor": 2
}
