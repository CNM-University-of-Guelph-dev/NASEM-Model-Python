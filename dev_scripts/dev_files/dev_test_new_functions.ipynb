{
 "cells": [
  {
   "cell_type": "code",
   "execution_count": 4,
   "metadata": {},
   "outputs": [
    {
     "name": "stdout",
     "output_type": "stream",
     "text": [
      "1.892\n"
     ]
    },
    {
     "data": {
      "text/plain": [
       "11.874"
      ]
     },
     "execution_count": 4,
     "metadata": {},
     "output_type": "execute_result"
    }
   ],
   "source": [
    "### OLD ###\n",
    "from nasem_dairy.ration_balancer.ration_balancer_functions import check_coeffs_in_coeff_dict\n",
    "from nasem_dairy.ration_balancer.coeff_dict import coeff_dict\n",
    "import math\n",
    "from icecream import ic\n",
    "\n",
    "def dry_cow_equations(DMIn_eqn, An_BW, An_PrePartWk, An_GestDay, An_GestLength, Dt_NDF, coeff_dict):\n",
    "\n",
    "    req_coeffs = ['Ka_LateGest_DMIn', 'Kc_LateGest_DMIn']\n",
    "    check_coeffs_in_coeff_dict(coeff_dict, req_coeffs)\n",
    "\n",
    "    Dt_NDF_drylim = Dt_NDF\n",
    "    #constrain Dt_NDF to the range of 30 to 55% of DM\n",
    "    if Dt_NDF < 30:\n",
    "        Dt_NDF_drylim = 30\n",
    "    elif Dt_NDF > 55:\n",
    "        Dt_NDF_drylim = 55\n",
    "\n",
    "    #Late Gestation eqn. from Hayirli et al., 2003) for dry cows and heifers\n",
    "    if An_PrePartWk < -3:\n",
    "        An_PrePartWklim = -3\n",
    "    elif An_PrePartWk > 0:\n",
    "        An_PrePartWklim = 0\n",
    "    else:\n",
    "        An_PrePartWklim = An_PrePartWk\n",
    "    An_PrePartWkDurat = An_PrePartWklim * 2\n",
    "\n",
    "\n",
    "\n",
    "    Kb_LateGest_DMIn = -(0.365 - 0.0028 * Dt_NDF_drylim)\n",
    "    Dt_DMIn_BW_LateGest_i = coeff_dict['Ka_LateGest_DMIn'] + Kb_LateGest_DMIn * An_PrePartWklim + coeff_dict['Kc_LateGest_DMIn'] * An_PrePartWklim**2\n",
    "    Dt_DMIn_BW_LateGest_p = (coeff_dict['Ka_LateGest_DMIn'] * An_PrePartWkDurat + Kb_LateGest_DMIn / 2 * An_PrePartWkDurat**2 + coeff_dict['Kc_LateGest_DMIn'] / 3 * An_PrePartWkDurat**3) / An_PrePartWkDurat\n",
    "    \n",
    "    Dt_DMIn_DryCow1_FarOff = An_BW * Dt_DMIn_BW_LateGest_i / 100\n",
    "    Dt_DMIn_DryCow1_Close = An_BW * Dt_DMIn_BW_LateGest_p / 100\n",
    "\n",
    "    if An_PrePartWk > An_PrePartWkDurat:\n",
    "        Dt_DMIn_DryCow1 = min(Dt_DMIn_DryCow1_FarOff, Dt_DMIn_DryCow1_Close)\n",
    "    else:\n",
    "        Dt_DMIn_DryCow1 = Dt_DMIn_DryCow1_FarOff\n",
    "\n",
    "    ## from Hayirli et al., 2003 JDS\n",
    "    if (An_GestDay - An_GestLength) < -21:\n",
    "        Dt_DMIn_DryCow_AdjGest = 0\n",
    "    else:\n",
    "        Dt_DMIn_DryCow_AdjGest = An_BW * (-0.756 * math.exp(0.154 * (An_GestDay - An_GestLength))) / 100\n",
    "    \n",
    "    Dt_DMIn_DryCow2 = An_BW * 1.979 / 100 + Dt_DMIn_DryCow_AdjGest\n",
    "\n",
    "    if DMIn_eqn == 10:\n",
    "        return_DMI = Dt_DMIn_DryCow1\n",
    "    elif DMIn_eqn == 11:\n",
    "        return_DMI = Dt_DMIn_DryCow2\n",
    "    # print(Dt_DMIn_BW_LateGest_p)\n",
    "    print(Dt_DMIn_BW_LateGest_i)\n",
    "\n",
    "    return return_DMI\n",
    "\n",
    "dry_cow_equations(11, 600, -2, 180, 280, 14, coeff_dict)"
   ]
  },
  {
   "cell_type": "code",
   "execution_count": 2,
   "metadata": {},
   "outputs": [],
   "source": [
    "### NEW ### \n",
    "from nasem_dairy.ration_balancer.ration_balancer_functions import check_coeffs_in_coeff_dict\n",
    "\n",
    "# TODO add test, add execute\n",
    "# Need when DMIn_eqn == 2,3,4,5,6,7,10\n",
    "def calculate_Dt_DMIn_BW_LateGest_i(An_PrePartWklim, Kb_LateGest_DMIn, coeff_dict):\n",
    "    req_coeffs = ['Ka_LateGest_DMIn', 'Kc_LateGest_DMIn']     \n",
    "    check_coeffs_in_coeff_dict(coeff_dict, req_coeffs)\n",
    "    #Late gestation individual animal prediction, % of BW.  Use to assess for a specific day for a given animal\n",
    "    Dt_DMIn_BW_LateGest_i = coeff_dict['Ka_LateGest_DMIn'] + Kb_LateGest_DMIn * An_PrePartWklim + coeff_dict['Kc_LateGest_DMIn'] * An_PrePartWklim**2\n",
    "    return Dt_DMIn_BW_LateGest_i\n",
    "\n",
    "\n",
    "# TODO add test, add execute\n",
    "# Need when DMIn_eqn == 10,12,13,14,15,16,17\n",
    "def calculate_Dt_DMIn_BW_LateGest_p(An_PrePartWkDurat, Kb_LateGest_DMIn, coeff_dict):\n",
    "    req_coeffs = ['Ka_LateGest_DMIn', 'Kc_LateGest_DMIn']     \n",
    "    check_coeffs_in_coeff_dict(coeff_dict, req_coeffs)\n",
    "    #Late gestation Group/Pen mean DMI/BW for an interval of 0 to PrePart_WkDurat.  Assumes pen steady state and PrePart_wk = pen mean\n",
    "    Dt_DMIn_BW_LateGest_p = (coeff_dict['Ka_LateGest_DMIn'] * An_PrePartWkDurat + Kb_LateGest_DMIn / 2 * An_PrePartWkDurat**2 + coeff_dict['Kc_LateGest_DMIn'] / 3 * An_PrePartWkDurat**3) / An_PrePartWkDurat\n",
    "    return Dt_DMIn_BW_LateGest_p\n",
    "\n",
    "\n",
    "# TODO update tests, update execute\n",
    "# Need when DMIn_eqn == 2,3,4,5,6,7\n",
    "def calculate_Dt_DMIn_Heif_LateGestInd(An_BW, Dt_DMIn_BW_LateGest_i):\n",
    "    #Individual intake for the specified day prepart or the pen mean intake for the interval, 0 to PrePart_WkDurat\n",
    "    Dt_DMIn_Heif_LateGestInd = 0.88 * An_BW * Dt_DMIn_BW_LateGest_i / 100 #Individual animal\n",
    "    return Dt_DMIn_Heif_LateGestInd\n",
    " \n",
    "\n",
    "# TODO update tests, update execute\n",
    "# Need when DMIn_eqn == 12,13,14,15,16,17\n",
    "def calculate_Dt_DMIn_Heif_LateGestPen(An_BW, Dt_DMIn_BW_LateGest_p):\n",
    "    Dt_DMIn_Heif_LateGestPen = 0.88 * An_BW * Dt_DMIn_BW_LateGest_p / 100 #Pen mean\n",
    "    return Dt_DMIn_Heif_LateGestPen\n",
    "\n",
    "\n",
    "# TODO add test, add execute\n",
    "# DMIn_eqn == 10\n",
    "def calculate_Dt_DMIn_DryCow1_FarOff(An_BW, Dt_DMIn_BW_LateGest_i):\n",
    "    Dt_DMIn_DryCow1_FarOff = An_BW * Dt_DMIn_BW_LateGest_i / 100\n",
    "    return Dt_DMIn_DryCow1_FarOff\n",
    "\n",
    "\n",
    "# TODO add test, add execute\n",
    "# DMIn_eqn == 10\n",
    "def calculate_Dt_DMIn_DryCow1_Close(An_BW, Dt_DMIn_BW_LateGest_p):\n",
    "    Dt_DMIn_DryCow1_Close = An_BW * Dt_DMIn_BW_LateGest_p / 100\n",
    "    return Dt_DMIn_DryCow1_Close\n",
    "\n",
    "\n",
    "# TODO add test, add execute\n",
    "# DMIn_eqn == 11\n",
    "def calculate_Dt_DMIn_DryCow2(An_BW, An_GestDay, An_GestLength):\n",
    "    # from Hayirli et al., 2003 JDS\n",
    "    if (An_GestDay - An_GestLength) < -21:\n",
    "        Dt_DMIn_DryCow_AdjGest = 0\n",
    "    else:\n",
    "        Dt_DMIn_DryCow_AdjGest = An_BW * (-0.756 * math.exp(0.154 * (An_GestDay - An_GestLength))) / 100\n",
    "    \n",
    "    Dt_DMIn_DryCow2 = An_BW * 1.979 / 100 + Dt_DMIn_DryCow_AdjGest\n",
    "    return Dt_DMIn_DryCow2\n"
   ]
  },
  {
   "cell_type": "code",
   "execution_count": 9,
   "metadata": {},
   "outputs": [
    {
     "data": {
      "text/plain": [
       "12.835"
      ]
     },
     "execution_count": 9,
     "metadata": {},
     "output_type": "execute_result"
    }
   ],
   "source": [
    "# calculate_Dt_DMIn_BW_LateGest_i(-3,-0.5, coeff_dict)\n",
    "#2.655\n",
    "\n",
    "# calculate_Dt_DMIn_BW_LateGest_p(-2, -0.3, coeff_dict)\n",
    "# 1.7233333333333334\n",
    "\n",
    "# calculate_Dt_DMIn_DryCow1_FarOff(820, 1.9)\n",
    "#15.58\n",
    "\n",
    "calculate_Dt_DMIn_DryCow1_Close(755, 1.7)\n",
    "# 12.835\n",
    "\n",
    "# calculate_Dt_DMIn_DryCow2(600, 180, 280)\n"
   ]
  }
 ],
 "metadata": {
  "kernelspec": {
   "display_name": "NASEM_py_env",
   "language": "python",
   "name": "python3"
  },
  "language_info": {
   "codemirror_mode": {
    "name": "ipython",
    "version": 3
   },
   "file_extension": ".py",
   "mimetype": "text/x-python",
   "name": "python",
   "nbconvert_exporter": "python",
   "pygments_lexer": "ipython3",
   "version": "3.11.3"
  }
 },
 "nbformat": 4,
 "nbformat_minor": 2
}
